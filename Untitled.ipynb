{
 "cells": [
  {
   "cell_type": "code",
   "execution_count": null,
   "id": "83cd8b4b",
   "metadata": {},
   "outputs": [],
   "source": [
    "from visualdl.models.hrnet import HRNetV2"
   ]
  },
  {
   "cell_type": "code",
   "execution_count": null,
   "id": "df036a2f",
   "metadata": {},
   "outputs": [],
   "source": [
    "model = HRNetV2(2)"
   ]
  },
  {
   "cell_type": "code",
   "execution_count": null,
   "id": "a9a94cdd",
   "metadata": {},
   "outputs": [],
   "source": [
    "from .visualdl import vdl"
   ]
  },
  {
   "cell_type": "code",
   "execution_count": null,
   "id": "ae02eb49",
   "metadata": {},
   "outputs": [],
   "source": [
    "vdl.train(r\"E:\\source\\repos\\VisualDL\\visualdl\\trainer\\segmentation\\segmentation.yaml\")"
   ]
  },
  {
   "cell_type": "code",
   "execution_count": null,
   "id": "bfa4696d",
   "metadata": {},
   "outputs": [],
   "source": [
    "def predict(weightpath, imgs, confidence = 0.45):\n",
    "    model = torch.hub.load('ultralytics/yolov5', 'custom', path=weightpath, force_reload=True)\n",
    "    size = imgs[0].shape[0]\n",
    "    model.conf = confidence\n",
    "    preds = model(imgs, size=size)\n",
    "    finals = []\n",
    "    for cnt, img in enumerate(imgs):\n",
    "        tmp = []\n",
    "        boxes = preds.xyxy[cnt]\n",
    "        for box in boxes:\n",
    "            middlex = int(box[0] + (box[2] - box[0]) / 2)\n",
    "            middley = int(box[1] + (box[3] - box[1]) / 2)\n",
    "            data = list(box.detach().cpu().numpy())\n",
    "            data.append((middlex, middley))\n",
    "            tmp.append(tuple(data))\n",
    "        finals.append(tmp)\n",
    "    return finals"
   ]
  },
  {
   "cell_type": "code",
   "execution_count": null,
   "id": "c20a216c",
   "metadata": {},
   "outputs": [],
   "source": [
    "import cv2\n",
    "from visualdl import vdl\n",
    "imgs = [cv2.imread(r\"F:\\source\\repos\\Daten\\ObjectDetection\\Her1\\train\\images\\PD-L1=2_0_41328-42312_75.png\")[..., ::-1]]"
   ]
  },
  {
   "cell_type": "code",
   "execution_count": null,
   "id": "c5cf8d71",
   "metadata": {},
   "outputs": [],
   "source": [
    "model1 = vdl.get_inference_model(r\"F:\\source\\repos\\hsayolo\\runs\\train\\exp5\\weights\\001.pt\", type=\"od\")\n",
    "model1.predict(imgs, confidence = 0.6)"
   ]
  },
  {
   "cell_type": "markdown",
   "id": "ddf4e792",
   "metadata": {},
   "source": [
    "# OD Test"
   ]
  },
  {
   "cell_type": "code",
   "execution_count": 1,
   "id": "889cd953",
   "metadata": {},
   "outputs": [],
   "source": [
    "import cv2"
   ]
  },
  {
   "cell_type": "code",
   "execution_count": 33,
   "id": "caefdc43",
   "metadata": {},
   "outputs": [
    {
     "ename": "AttributeError",
     "evalue": "module 'cv2.cv2' has no attribute 'peak_local_max'",
     "output_type": "error",
     "traceback": [
      "\u001b[1;31m---------------------------------------------------------------------------\u001b[0m",
      "\u001b[1;31mAttributeError\u001b[0m                            Traceback (most recent call last)",
      "\u001b[1;32m<ipython-input-33-55786da064fc>\u001b[0m in \u001b[0;36m<module>\u001b[1;34m\u001b[0m\n\u001b[0;32m      2\u001b[0m \u001b[0morig\u001b[0m \u001b[1;33m=\u001b[0m \u001b[0mcv2\u001b[0m\u001b[1;33m.\u001b[0m\u001b[0mimread\u001b[0m\u001b[1;33m(\u001b[0m\u001b[1;34mr\"F:\\source\\repos\\Daten\\Cells\\valid\\images\\05__1_4735_9814.png\"\u001b[0m\u001b[1;33m,\u001b[0m \u001b[1;36m0\u001b[0m\u001b[1;33m)\u001b[0m\u001b[1;33m\u001b[0m\u001b[1;33m\u001b[0m\u001b[0m\n\u001b[0;32m      3\u001b[0m \u001b[0mdist\u001b[0m \u001b[1;33m=\u001b[0m \u001b[0mcv2\u001b[0m\u001b[1;33m.\u001b[0m\u001b[0mdistanceTransform\u001b[0m\u001b[1;33m(\u001b[0m\u001b[0mmask\u001b[0m\u001b[1;33m,\u001b[0m \u001b[0mcv2\u001b[0m\u001b[1;33m.\u001b[0m\u001b[0mDIST_L2\u001b[0m\u001b[1;33m,\u001b[0m \u001b[1;36m5\u001b[0m\u001b[1;33m)\u001b[0m\u001b[1;33m\u001b[0m\u001b[1;33m\u001b[0m\u001b[0m\n\u001b[1;32m----> 4\u001b[1;33m cv2.peak_local_max(dist, indices=False, min_distance=20,\n\u001b[0m\u001b[0;32m      5\u001b[0m \tlabels=mask)\n",
      "\u001b[1;31mAttributeError\u001b[0m: module 'cv2.cv2' has no attribute 'peak_local_max'"
     ]
    }
   ],
   "source": [
    "mask = cv2.imread(r\"F:\\source\\repos\\Daten\\Cells\\valid\\labels\\05__1_4735_9814.png\", 0) * 255\n",
    "orig = cv2.imread(r\"F:\\source\\repos\\Daten\\Cells\\valid\\images\\05__1_4735_9814.png\", 0)\n",
    "dist = cv2.distanceTransform(mask, cv2.DIST_L2, 5)\n",
    "#cv2.peak_local_max(dist, indices=False, min_distance=20,#\n",
    "\tlabels=mask)"
   ]
  },
  {
   "cell_type": "code",
   "execution_count": 30,
   "id": "5805fa99",
   "metadata": {},
   "outputs": [
    {
     "data": {
      "text/plain": [
       "True"
      ]
     },
     "execution_count": 30,
     "metadata": {},
     "output_type": "execute_result"
    }
   ],
   "source": [
    "cv2.imwrite(\"xd.png\", dist)"
   ]
  },
  {
   "cell_type": "code",
   "execution_count": 18,
   "id": "61aa3d46",
   "metadata": {},
   "outputs": [],
   "source": []
  },
  {
   "cell_type": "code",
   "execution_count": 17,
   "id": "dc534c44",
   "metadata": {},
   "outputs": [
    {
     "data": {
      "text/plain": [
       "dtype('uint8')"
      ]
     },
     "execution_count": 17,
     "metadata": {},
     "output_type": "execute_result"
    }
   ],
   "source": [
    "a.dtype"
   ]
  },
  {
   "cell_type": "code",
   "execution_count": 22,
   "id": "981e3a34",
   "metadata": {},
   "outputs": [
    {
     "data": {
      "text/plain": [
       "array([[17.    , 16.    , 15.    , ...,  2.    ,  1.    ,  0.    ],\n",
       "       [17.    , 16.    , 15.    , ...,  2.    ,  1.4   ,  1.    ],\n",
       "       [17.    , 16.    , 15.    , ...,  2.    ,  2.1969,  2.    ],\n",
       "       ...,\n",
       "       [ 7.    ,  7.    ,  7.    , ...,  2.    ,  2.1969,  2.    ],\n",
       "       [ 8.    ,  8.    ,  8.    , ...,  1.    ,  1.4   ,  1.    ],\n",
       "       [ 9.    ,  9.    ,  9.    , ...,  0.    ,  1.    ,  0.    ]],\n",
       "      dtype=float32)"
      ]
     },
     "execution_count": 22,
     "metadata": {},
     "output_type": "execute_result"
    }
   ],
   "source": [
    "dist"
   ]
  },
  {
   "cell_type": "code",
   "execution_count": null,
   "id": "dcfd5816",
   "metadata": {},
   "outputs": [],
   "source": []
  }
 ],
 "metadata": {
  "kernelspec": {
   "display_name": "Python 3",
   "language": "python",
   "name": "python3"
  },
  "language_info": {
   "codemirror_mode": {
    "name": "ipython",
    "version": 3
   },
   "file_extension": ".py",
   "mimetype": "text/x-python",
   "name": "python",
   "nbconvert_exporter": "python",
   "pygments_lexer": "ipython3",
   "version": "3.8.10"
  }
 },
 "nbformat": 4,
 "nbformat_minor": 5
}
