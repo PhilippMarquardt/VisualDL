{
 "cells": [
  {
   "cell_type": "markdown",
   "id": "652362d9",
   "metadata": {},
   "source": [
    "# Spectra Dataset"
   ]
  },
  {
   "cell_type": "code",
   "execution_count": 2,
   "id": "7215ade1",
   "metadata": {},
   "outputs": [
    {
     "name": "stderr",
     "output_type": "stream",
     "text": [
      "C:\\Users\\HSA\\miniconda3\\envs\\hsa-web\\lib\\site-packages\\tqdm\\auto.py:22: TqdmWarning: IProgress not found. Please update jupyter and ipywidgets. See https://ipywidgets.readthedocs.io/en/stable/user_install.html\n",
      "  from .autonotebook import tqdm as notebook_tqdm\n"
     ]
    }
   ],
   "source": [
    "from visualdl import vdl\n",
    "import json\n",
    "from openpyxl import load_workbook\n",
    "import numpy as np\n",
    "import os\n",
    "import pandas as pd\n",
    "import matplotlib.pyplot as plt\n",
    "import torch"
   ]
  },
  {
   "cell_type": "code",
   "execution_count": null,
   "id": "8119988c",
   "metadata": {},
   "outputs": [],
   "source": [
    "train_x, train_y = [], []\n",
    "valid_x, valid_y = [], []"
   ]
  },
  {
   "cell_type": "code",
   "execution_count": null,
   "id": "7a1d0b39",
   "metadata": {},
   "outputs": [],
   "source": [
    "# Einzelsubstanzen\n",
    "def get_csv_data(file_path):\n",
    "    with open(file_path, encoding=\"utf-8\") as handle:\n",
    "        data = pd.read_csv(file_path, sep=\";\", skiprows=list(range(0, 89)), header=None)\n",
    "    return data\n",
    "\n",
    "\n",
    "csv_path = r\"C:\\Users\\HSA\\Desktop\\Spektren\\Einzelsubstanzen\\csv Dateien\"\n",
    "for cnt, csv in enumerate(os.listdir(csv_path)):\n",
    "    csv_file_path = os.path.join(csv_path, csv)\n",
    "    csv_data = get_csv_data(csv_file_path)\n",
    "\n",
    "    if (\"Chromotrope\") in csv:\n",
    "        if csv.split(\",\")[0][-1] == \"2\":\n",
    "            val = 12.0\n",
    "        elif csv.split(\",\")[0][-1] == \"0\":\n",
    "            val = 0.5\n",
    "        elif csv.split(\",\")[0][-1] == \"1\":\n",
    "            val = 1.5\n",
    "        else:\n",
    "            val = csv.split(\",\")[0][-1]\n",
    "        val = float(val)\n",
    "        x_data = [val, 0, 0]\n",
    "    elif (\"Chromtrope\") in csv:\n",
    "        if csv.split(\",\")[0][-1] == \"2\":\n",
    "            val = 12.0\n",
    "        elif csv.split(\",\")[0][-1] == \"0\":\n",
    "            val = 0.5\n",
    "        elif csv.split(\",\")[0][-1] == \"1\":\n",
    "            val = 1.5\n",
    "        else:\n",
    "            val = csv.split(\",\")[0][-1]\n",
    "        val = float(val)\n",
    "        x_data = [val, 0, 0]\n",
    "    elif \"Erioglaucine\" in csv:\n",
    "        if csv.split(\".\")[0][-1] == \"2\":\n",
    "            val = 12.0\n",
    "        elif csv.split(\".\")[0][-1] == \"0\":\n",
    "            val = 0.5\n",
    "        elif csv.split(\".\")[0][-1] == \"1\":\n",
    "            val = 1.5\n",
    "        else:\n",
    "            val = csv.split(\".\")[0][-1]\n",
    "        val = float(val)\n",
    "        x_data = [0, val, 0]\n",
    "    elif \"Riboflavin\" in csv:\n",
    "        if csv.split(\",\")[0][-1] == \"2\":\n",
    "            val = 12.0\n",
    "        elif csv.split(\",\")[0][-1] == \"0\":\n",
    "            val = 0.5\n",
    "        elif csv.split(\",\")[0][-1] == \"1\":\n",
    "            val = 1.5\n",
    "        else:\n",
    "            val = csv.split(\",\")[0][-1]\n",
    "        val = float(val)\n",
    "        x_data = [0, 0, val]\n",
    "    else:\n",
    "        print(f\"no valid substance: {csv}\")\n",
    "        continue\n",
    "\n",
    "    all_values = list(\n",
    "        map(\n",
    "            lambda x: [\n",
    "                float(x[i].replace(\",\", \".\")) if type(x[i]) is str else x[i]\n",
    "                for i in range(2)\n",
    "            ],\n",
    "            csv_data.values.tolist(),\n",
    "        )\n",
    "    )\n",
    "    idx = list(np.round(np.linspace(0, len(all_values) - 1, 100)).astype(int))\n",
    "    y_values = [all_values[i] for i in idx]\n",
    "    y_values_flat = [item for sublist in y_values for item in sublist]\n",
    "\n",
    "    if cnt % 6 == 0:\n",
    "        valid_x.append(x_data)\n",
    "        valid_y.append(y_values_flat)\n",
    "    else:\n",
    "        train_x.append(x_data)\n",
    "        train_y.append(y_values_flat)"
   ]
  },
  {
   "cell_type": "code",
   "execution_count": null,
   "id": "eb5b25a6",
   "metadata": {},
   "outputs": [],
   "source": [
    "x_values_b = []\n",
    "for value in all_values:\n",
    "    x_values_b.append(value[0])"
   ]
  },
  {
   "cell_type": "code",
   "execution_count": null,
   "id": "3a7faf07",
   "metadata": {},
   "outputs": [],
   "source": [
    "# Gemische\n",
    "file_path = r\"C:\\Users\\HSA\\Desktop\\Spektren\\Gemische\\Pulvermischungen Tabletten_neue Einwaage für M44.xlsx\"\n",
    "spectra_dir = r\"C:\\Users\\HSA\\Desktop\\Spektren\\Gemische\\csv Dateien\"\n",
    "wb = load_workbook(filename=file_path, data_only=True)\n",
    "sheet = wb[\"Zusammenfassung\"]\n",
    "\n",
    "spectra_files = os.listdir(spectra_dir)\n",
    "for cnt, i in enumerate(range(3, 67)):\n",
    "    file_name = sheet[f\"A{i}\"].value\n",
    "    file_number = file_name[-2:]\n",
    "    file_number = file_number if file_number[0] != \"0\" else file_number[1]\n",
    "    samples = [x for x in spectra_files if (\"Tablette \" + file_number + \"_\") in x]\n",
    "\n",
    "    for sample in samples:\n",
    "        with open(file_path, encoding=\"utf-8\") as handle:\n",
    "            csv_data = pd.read_csv(\n",
    "                os.path.join(spectra_dir, sample),\n",
    "                sep=\";\",\n",
    "                skiprows=list(range(0, 89)),\n",
    "                header=None,\n",
    "            )\n",
    "\n",
    "        all_values = list(\n",
    "            map(\n",
    "                lambda x: [\n",
    "                    float(x[i].replace(\",\", \".\")) if type(x[i]) is str else x[i]\n",
    "                    for i in range(2)\n",
    "                ],\n",
    "                csv_data.values.tolist(),\n",
    "            )\n",
    "        )\n",
    "        # substitute g_factor x values with b x values\n",
    "        all_values_b = [[x_values_b[i], x[1]] for i, x in enumerate(all_values)]\n",
    "        idx = list(np.round(np.linspace(0, len(all_values) - 1, 100)).astype(int))\n",
    "        y_values = [all_values_b[i] for i in idx]\n",
    "        y_values_flat = [item for sublist in y_values for item in sublist]\n",
    "\n",
    "        if cnt % 6 == 0:\n",
    "            valid_x.append(\n",
    "                [sheet[f\"G{i}\"].value, sheet[f\"F{i}\"].value, sheet[f\"H{i}\"].value]\n",
    "            )\n",
    "            valid_y.append(y_values_flat)\n",
    "        else:\n",
    "            train_x.append(\n",
    "                [sheet[f\"G{i}\"].value, sheet[f\"F{i}\"].value, sheet[f\"H{i}\"].value]\n",
    "            )\n",
    "            train_y.append(y_values_flat)"
   ]
  },
  {
   "cell_type": "code",
   "execution_count": null,
   "id": "7a0b8c1d",
   "metadata": {},
   "outputs": [],
   "source": [
    "final_dict_train = {}\n",
    "for cnt, (x, y) in enumerate(zip(train_x, train_y)):\n",
    "    final_dict_train[cnt] = {\"concentrations\": x, \"spectrum\": y}"
   ]
  },
  {
   "cell_type": "code",
   "execution_count": null,
   "id": "428cd215",
   "metadata": {},
   "outputs": [],
   "source": [
    "with open(\"dataset_train.json\", \"w\", encoding=\"utf-8\") as handle:\n",
    "    json.dump(final_dict_train, handle)"
   ]
  },
  {
   "cell_type": "code",
   "execution_count": null,
   "id": "ad4e6595",
   "metadata": {},
   "outputs": [],
   "source": [
    "with open(\"dataset_train.json\", \"r\") as f:\n",
    "    data_train = json.load(f)"
   ]
  },
  {
   "cell_type": "code",
   "execution_count": null,
   "id": "8bb1291a",
   "metadata": {},
   "outputs": [],
   "source": [
    "final_dict_valid = {}\n",
    "for cnt, (x, y) in enumerate(zip(valid_x, valid_y)):\n",
    "    final_dict_valid[cnt] = {\"concentrations\": x, \"spectrum\": y}"
   ]
  },
  {
   "cell_type": "code",
   "execution_count": null,
   "id": "f4c6ea38",
   "metadata": {},
   "outputs": [],
   "source": [
    "with open(\"dataset_valid.json\", \"w\", encoding=\"utf-8\") as handle:\n",
    "    json.dump(final_dict_valid, handle)"
   ]
  },
  {
   "cell_type": "code",
   "execution_count": null,
   "id": "8ab4dc6f",
   "metadata": {},
   "outputs": [],
   "source": [
    "with open(\"dataset_valid.json\", \"r\") as f:\n",
    "    data_valid = json.load(f)"
   ]
  },
  {
   "cell_type": "code",
   "execution_count": null,
   "id": "c398ea59",
   "metadata": {},
   "outputs": [],
   "source": [
    "len(data_train.keys())"
   ]
  },
  {
   "cell_type": "code",
   "execution_count": null,
   "id": "3d3f7815",
   "metadata": {},
   "outputs": [],
   "source": [
    "len(data_valid.keys())"
   ]
  },
  {
   "cell_type": "markdown",
   "id": "5722bcf7",
   "metadata": {},
   "source": [
    "## Test Model"
   ]
  },
  {
   "cell_type": "code",
   "execution_count": 3,
   "id": "317825e4",
   "metadata": {},
   "outputs": [],
   "source": [
    "model = vdl.get_inference_model(r\"C:\\Users\\HSA\\Desktop\\Spektren\\model.pt\", \"mlp\")"
   ]
  },
  {
   "cell_type": "code",
   "execution_count": 4,
   "id": "3504d0ba",
   "metadata": {},
   "outputs": [],
   "source": [
    "predictions = model.predict([[1.05, 2.05, 0.54]], mlp_output_pairwise=True)"
   ]
  },
  {
   "cell_type": "code",
   "execution_count": 5,
   "id": "dce88cea",
   "metadata": {},
   "outputs": [
    {
     "data": {
      "image/png": "[encoded data removed]",
      "text/plain": [
       "<Figure size 432x288 with 1 Axes>"
      ]
     },
     "metadata": {
      "needs_background": "light"
     },
     "output_type": "display_data"
    }
   ],
   "source": [
    "x_values = []\n",
    "y_values = []\n",
    "for pred in predictions[0]:\n",
    "    x_values.append(pred[0])\n",
    "    y_values.append(pred[1])\n",
    "\n",
    "plt.plot(x_values, y_values)\n",
    "plt.savefig(\"test_pred.png\")"
   ]
  },
  {
   "cell_type": "markdown",
   "id": "44b30184",
   "metadata": {},
   "source": [
    "## Change Model Dict"
   ]
  },
  {
   "cell_type": "code",
   "execution_count": null,
   "id": "68db44a9",
   "metadata": {},
   "outputs": [],
   "source": [
    "model = torch.load(r\"C:\\Users\\HSA\\Desktop\\Spektren\\model_100.pt\")"
   ]
  },
  {
   "cell_type": "code",
   "execution_count": null,
   "id": "56a57e70",
   "metadata": {},
   "outputs": [],
   "source": [
    "model.keys()"
   ]
  },
  {
   "cell_type": "code",
   "execution_count": null,
   "id": "bd468d2d",
   "metadata": {},
   "outputs": [],
   "source": [
    "model[\"custom_data\"][\"substances\"]"
   ]
  },
  {
   "cell_type": "code",
   "execution_count": null,
   "id": "bb77d1ec",
   "metadata": {},
   "outputs": [],
   "source": []
  },
  {
   "cell_type": "code",
   "execution_count": null,
   "id": "c495c0b5",
   "metadata": {},
   "outputs": [],
   "source": [
    "torch.save(model, r\"C:\\Users\\HSA\\Desktop\\Spektren\\model_100.pt\")"
   ]
  },
  {
   "cell_type": "code",
   "execution_count": null,
   "id": "40b4c022",
   "metadata": {},
   "outputs": [],
   "source": []
  }
 ],
 "metadata": {
  "kernelspec": {
   "display_name": "Python 3 (ipykernel)",
   "language": "python",
   "name": "python3"
  },
  "language_info": {
   "codemirror_mode": {
    "name": "ipython",
    "version": 3
   },
   "file_extension": ".py",
   "mimetype": "text/x-python",
   "name": "python",
   "nbconvert_exporter": "python",
   "pygments_lexer": "ipython3",
   "version": "3.7.0"
  }
 },
 "nbformat": 4,
 "nbformat_minor": 5
}
