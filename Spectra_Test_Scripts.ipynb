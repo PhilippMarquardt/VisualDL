{
 "cells": [
  {
   "cell_type": "markdown",
   "id": "652362d9",
   "metadata": {},
   "source": [
    "# Spectra Dataset"
   ]
  },
  {
   "cell_type": "code",
   "execution_count": null,
   "id": "7215ade1",
   "metadata": {},
   "outputs": [],
   "source": [
    "from visualdl import vdl\n",
    "import json\n",
    "from openpyxl import load_workbook\n",
    "import numpy as np\n",
    "import os\n",
    "import pandas as pd\n",
    "import matplotlib.pyplot as plt\n",
    "import torch\n",
    "import random"
   ]
  },
  {
   "cell_type": "code",
   "execution_count": null,
   "id": "8119988c",
   "metadata": {},
   "outputs": [],
   "source": [
    "train_x, train_y = [], []\n",
    "valid_x, valid_y = [], []"
   ]
  },
  {
   "cell_type": "code",
   "execution_count": null,
   "id": "7a1d0b39",
   "metadata": {},
   "outputs": [],
   "source": [
    "# Einzelsubstanzen\n",
    "def get_csv_data(file_path):\n",
    "    with open(file_path, encoding=\"utf-8\") as handle:\n",
    "        data = pd.read_csv(file_path, sep=\";\", skiprows=list(range(0, 89)), header=None)\n",
    "    return data\n",
    "\n",
    "\n",
    "csv_path = r\"C:\\Users\\HSA\\Desktop\\Spektren\\Einzelsubstanzen\\csv Dateien\"\n",
    "for cnt, csv in enumerate(os.listdir(csv_path)):\n",
    "    csv_file_path = os.path.join(csv_path, csv)\n",
    "    csv_data = get_csv_data(csv_file_path)\n",
    "\n",
    "    if (\"Chromotrope\") in csv:\n",
    "        if csv.split(\",\")[0][-1] == \"2\":\n",
    "            val = 12.0\n",
    "        elif csv.split(\",\")[0][-1] == \"0\":\n",
    "            val = 0.5\n",
    "        elif csv.split(\",\")[0][-1] == \"1\":\n",
    "            val = 1.5\n",
    "        else:\n",
    "            val = csv.split(\",\")[0][-1]\n",
    "        val = float(val)\n",
    "        x_data = [val, 0, 0]\n",
    "    elif (\"Chromtrope\") in csv:\n",
    "        if csv.split(\",\")[0][-1] == \"2\":\n",
    "            val = 12.0\n",
    "        elif csv.split(\",\")[0][-1] == \"0\":\n",
    "            val = 0.5\n",
    "        elif csv.split(\",\")[0][-1] == \"1\":\n",
    "            val = 1.5\n",
    "        else:\n",
    "            val = csv.split(\",\")[0][-1]\n",
    "        val = float(val)\n",
    "        x_data = [val, 0, 0]\n",
    "    elif \"Erioglaucine\" in csv:\n",
    "        if csv.split(\".\")[0][-1] == \"2\":\n",
    "            val = 12.0\n",
    "        elif csv.split(\".\")[0][-1] == \"0\":\n",
    "            val = 0.5\n",
    "        elif csv.split(\".\")[0][-1] == \"1\":\n",
    "            val = 1.5\n",
    "        else:\n",
    "            val = csv.split(\".\")[0][-1]\n",
    "        val = float(val)\n",
    "        x_data = [0, val, 0]\n",
    "    elif \"Riboflavin\" in csv:\n",
    "        if csv.split(\",\")[0][-1] == \"2\":\n",
    "            val = 12.0\n",
    "        elif csv.split(\",\")[0][-1] == \"0\":\n",
    "            val = 0.5\n",
    "        elif csv.split(\",\")[0][-1] == \"1\":\n",
    "            val = 1.5\n",
    "        else:\n",
    "            val = csv.split(\",\")[0][-1]\n",
    "        val = float(val)\n",
    "        x_data = [0, 0, val]\n",
    "    else:\n",
    "        print(f\"no valid substance: {csv}\")\n",
    "        continue\n",
    "\n",
    "    all_values = list(\n",
    "        map(\n",
    "            lambda x: [\n",
    "                float(x[i].replace(\",\", \".\")) if type(x[i]) is str else x[i]\n",
    "                for i in range(2)\n",
    "            ],\n",
    "            csv_data.values.tolist(),\n",
    "        )\n",
    "    )\n",
    "    idx = list(np.round(np.linspace(0, len(all_values) - 1, 100)).astype(int))\n",
    "\n",
    "    #     # y-values for predicting x and y values of spectrum\n",
    "    #     y_values = [all_values[i] for i in idx]\n",
    "    #     y_values_flat = [item for sublist in y_values for item in sublist]\n",
    "\n",
    "    # y-values for predicting y values and range of x values\n",
    "    y_values = [all_values[i] for i in idx]\n",
    "    y_values_flat = [item for sublist in y_values for item in sublist]\n",
    "    y_values_range = [item for idx, item in enumerate(y_values_flat) if idx % 2 != 0]\n",
    "    y_values_range.extend([330, 344])\n",
    "\n",
    "    # rand_nbr = random.randint(1, 5)\n",
    "    if cnt % 6 == 0:\n",
    "        valid_x.append(x_data)\n",
    "        valid_y.append(y_values_range)\n",
    "    else:\n",
    "        train_x.append(x_data)\n",
    "        train_y.append(y_values_range)"
   ]
  },
  {
   "cell_type": "code",
   "execution_count": null,
   "id": "eb5b25a6",
   "metadata": {},
   "outputs": [],
   "source": [
    "x_values_b = []\n",
    "for value in all_values:\n",
    "    x_values_b.append(value[0])"
   ]
  },
  {
   "cell_type": "code",
   "execution_count": null,
   "id": "3a7faf07",
   "metadata": {},
   "outputs": [],
   "source": [
    "# Gemische\n",
    "file_path = r\"C:\\Users\\HSA\\Desktop\\Spektren\\Gemische\\Pulvermischungen Tabletten_neue Einwaage für M44.xlsx\"\n",
    "spectra_dir = r\"C:\\Users\\HSA\\Desktop\\Spektren\\Gemische\\csv Dateien\"\n",
    "wb = load_workbook(filename=file_path, data_only=True)\n",
    "sheet = wb[\"Zusammenfassung\"]\n",
    "\n",
    "spectra_files = os.listdir(spectra_dir)\n",
    "for cnt, i in enumerate(range(3, 67)):\n",
    "    file_name = sheet[f\"A{i}\"].value\n",
    "    file_number = file_name[-2:]\n",
    "    file_number = file_number if file_number[0] != \"0\" else file_number[1]\n",
    "    samples = [x for x in spectra_files if (\"Tablette \" + file_number + \"_\") in x]\n",
    "\n",
    "    for sample in samples:\n",
    "        with open(file_path, encoding=\"utf-8\") as handle:\n",
    "            csv_data = pd.read_csv(\n",
    "                os.path.join(spectra_dir, sample),\n",
    "                sep=\";\",\n",
    "                skiprows=list(range(0, 89)),\n",
    "                header=None,\n",
    "            )\n",
    "\n",
    "        all_values = list(\n",
    "            map(\n",
    "                lambda x: [\n",
    "                    float(x[i].replace(\",\", \".\")) if type(x[i]) is str else x[i]\n",
    "                    for i in range(2)\n",
    "                ],\n",
    "                csv_data.values.tolist(),\n",
    "            )\n",
    "        )\n",
    "        # substitute g_factor x values with b x values\n",
    "        all_values_b = [[x_values_b[i], x[1]] for i, x in enumerate(all_values)]\n",
    "        idx = list(np.round(np.linspace(0, len(all_values) - 1, 100)).astype(int))\n",
    "\n",
    "        #         # y-values for predicting x and y values of spectrum\n",
    "        #         y_values = [all_values_b[i] for i in idx]\n",
    "        #         y_values_flat = [item for sublist in y_values for item in sublist]\n",
    "\n",
    "        # y-values for predicting y values and range of x values\n",
    "        y_values = [all_values_b[i] for i in idx]\n",
    "        y_values_flat = [item for sublist in y_values for item in sublist]\n",
    "        y_values_range = [\n",
    "            item for idx, item in enumerate(y_values_flat) if idx % 2 != 0\n",
    "        ]\n",
    "        y_values_range.extend([330, 344])\n",
    "\n",
    "        #         rand_nbr = random.randint(1, 5)\n",
    "        if cnt % 6 == 0:\n",
    "            valid_x.append(\n",
    "                [sheet[f\"G{i}\"].value, sheet[f\"F{i}\"].value, sheet[f\"H{i}\"].value]\n",
    "            )\n",
    "            valid_y.append(y_values_range)\n",
    "        else:\n",
    "            train_x.append(\n",
    "                [sheet[f\"G{i}\"].value, sheet[f\"F{i}\"].value, sheet[f\"H{i}\"].value]\n",
    "            )\n",
    "            train_y.append(y_values_range)"
   ]
  },
  {
   "cell_type": "code",
   "execution_count": null,
   "id": "7a0b8c1d",
   "metadata": {},
   "outputs": [],
   "source": [
    "final_dict_train = {}\n",
    "for cnt, (x, y) in enumerate(zip(train_x, train_y)):\n",
    "    final_dict_train[cnt] = {\"concentrations\": x, \"spectrum\": y}"
   ]
  },
  {
   "cell_type": "code",
   "execution_count": null,
   "id": "428cd215",
   "metadata": {},
   "outputs": [],
   "source": [
    "with open(\"dataset_train.json\", \"w\", encoding=\"utf-8\") as handle:\n",
    "    json.dump(final_dict_train, handle)"
   ]
  },
  {
   "cell_type": "code",
   "execution_count": null,
   "id": "ad4e6595",
   "metadata": {},
   "outputs": [],
   "source": [
    "with open(\"dataset_train.json\", \"r\") as f:\n",
    "    data_train = json.load(f)"
   ]
  },
  {
   "cell_type": "code",
   "execution_count": null,
   "id": "8bb1291a",
   "metadata": {},
   "outputs": [],
   "source": [
    "final_dict_valid = {}\n",
    "for cnt, (x, y) in enumerate(zip(valid_x, valid_y)):\n",
    "    final_dict_valid[cnt] = {\"concentrations\": x, \"spectrum\": y}"
   ]
  },
  {
   "cell_type": "code",
   "execution_count": null,
   "id": "f4c6ea38",
   "metadata": {},
   "outputs": [],
   "source": [
    "with open(\"dataset_valid.json\", \"w\", encoding=\"utf-8\") as handle:\n",
    "    json.dump(final_dict_valid, handle)"
   ]
  },
  {
   "cell_type": "code",
   "execution_count": null,
   "id": "8ab4dc6f",
   "metadata": {},
   "outputs": [],
   "source": [
    "with open(\"dataset_valid.json\", \"r\") as f:\n",
    "    data_valid = json.load(f)"
   ]
  },
  {
   "cell_type": "code",
   "execution_count": null,
   "id": "c398ea59",
   "metadata": {},
   "outputs": [],
   "source": [
    "len(data_train.keys())"
   ]
  },
  {
   "cell_type": "code",
   "execution_count": null,
   "id": "3d3f7815",
   "metadata": {},
   "outputs": [],
   "source": [
    "len(data_valid.keys())"
   ]
  },
  {
   "cell_type": "code",
   "execution_count": null,
   "id": "c7567392",
   "metadata": {},
   "outputs": [],
   "source": [
    "data_valid"
   ]
  },
  {
   "cell_type": "markdown",
   "id": "5722bcf7",
   "metadata": {},
   "source": [
    "## Test Model"
   ]
  },
  {
   "cell_type": "code",
   "execution_count": null,
   "id": "47d09fb4",
   "metadata": {},
   "outputs": [],
   "source": [
    "model = vdl.get_inference_model(r\"C:\\Users\\HSA\\Desktop\\Spektren\\model_100.pt\", \"mlp\")\n",
    "# standard output\n",
    "predictions = model.predict([[0.5, 0, 0]])\n",
    "\n",
    "for pred in predictions:\n",
    "    plt.plot(list(range(100)), pred)\n",
    "plt.savefig(\"test_pred.png\")"
   ]
  },
  {
   "cell_type": "code",
   "execution_count": null,
   "id": "3504d0ba",
   "metadata": {},
   "outputs": [],
   "source": [
    "model = vdl.get_inference_model(\n",
    "    r\"C:\\Users\\HSA\\Desktop\\Spektren\\model_x_y_100.pt\", \"mlp\"\n",
    ")\n",
    "# pairwise output\n",
    "predictions = model.predict([[0.5, 0, 0]], mlp_output_type=\"pairwise\")\n",
    "\n",
    "for pred in predictions:\n",
    "    x_values = []\n",
    "    y_values = []\n",
    "    for point in pred:\n",
    "        x_values.append(point[0])\n",
    "        y_values.append(point[1])\n",
    "    plt.plot(x_values, y_values)\n",
    "plt.savefig(\"test_pred.png\")"
   ]
  },
  {
   "cell_type": "code",
   "execution_count": null,
   "id": "dce88cea",
   "metadata": {},
   "outputs": [],
   "source": [
    "model = vdl.get_inference_model(r\"C:\\Users\\HSA\\Desktop\\Spektren\\model.pt\", \"mlp\")\n",
    "# range output\n",
    "predictions = model.predict([[0.5, 0, 0]], mlp_output_type=\"ranges\")\n",
    "\n",
    "for pred in predictions:\n",
    "    y_values = pred[0]\n",
    "    x_values_ranges = pred[1]\n",
    "    x_values_range = x_values_ranges[0]  # in this case we only have 1 range\n",
    "    step = (x_values_range[1] - x_values_range[0]) / 100\n",
    "    x_values = np.arange(x_values_range[0], x_values_range[1], step)\n",
    "    plt.plot(x_values, y_values)\n",
    "plt.savefig(\"test_pred.png\")"
   ]
  },
  {
   "cell_type": "code",
   "execution_count": null,
   "id": "11796f38",
   "metadata": {},
   "outputs": [],
   "source": []
  },
  {
   "cell_type": "markdown",
   "id": "44b30184",
   "metadata": {},
   "source": [
    "## Change Model Dict"
   ]
  },
  {
   "cell_type": "code",
   "execution_count": null,
   "id": "68db44a9",
   "metadata": {},
   "outputs": [],
   "source": [
    "model = torch.load(r\"C:\\Users\\HSA\\Desktop\\Spektren\\model_range_100.pt\")"
   ]
  },
  {
   "cell_type": "code",
   "execution_count": null,
   "id": "56a57e70",
   "metadata": {},
   "outputs": [],
   "source": [
    "model.keys()"
   ]
  },
  {
   "cell_type": "code",
   "execution_count": null,
   "id": "bd468d2d",
   "metadata": {},
   "outputs": [],
   "source": [
    "model[\"range_predictions\"] = 1"
   ]
  },
  {
   "cell_type": "code",
   "execution_count": null,
   "id": "c495c0b5",
   "metadata": {},
   "outputs": [],
   "source": [
    "torch.save(model, r\"C:\\Users\\HSA\\Desktop\\Spektren\\model_range_100.pt\")"
   ]
  },
  {
   "cell_type": "markdown",
   "id": "9957f97a",
   "metadata": {},
   "source": [
    "## Tests"
   ]
  },
  {
   "cell_type": "code",
   "execution_count": null,
   "id": "da43f8f9",
   "metadata": {},
   "outputs": [],
   "source": []
  },
  {
   "cell_type": "code",
   "execution_count": null,
   "id": "10b21a25",
   "metadata": {},
   "outputs": [],
   "source": []
  }
 ],
 "metadata": {
  "kernelspec": {
   "display_name": "Python 3 (ipykernel)",
   "language": "python",
   "name": "python3"
  },
  "language_info": {
   "codemirror_mode": {
    "name": "ipython",
    "version": 3
   },
   "file_extension": ".py",
   "mimetype": "text/x-python",
   "name": "python",
   "nbconvert_exporter": "python",
   "pygments_lexer": "ipython3",
   "version": "3.9.7"
  }
 },
 "nbformat": 4,
 "nbformat_minor": 5
}
