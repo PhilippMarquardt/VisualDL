{
 "cells": [
  {
   "cell_type": "markdown",
   "id": "652362d9",
   "metadata": {},
   "source": [
    "# Spectra Dataset"
   ]
  },
  {
   "cell_type": "code",
   "execution_count": 2,
   "id": "7215ade1",
   "metadata": {},
   "outputs": [
    {
     "name": "stderr",
     "output_type": "stream",
     "text": [
      "C:\\Users\\HSA\\miniconda3\\envs\\hsa-web\\lib\\site-packages\\tqdm\\auto.py:22: TqdmWarning: IProgress not found. Please update jupyter and ipywidgets. See https://ipywidgets.readthedocs.io/en/stable/user_install.html\n",
      "  from .autonotebook import tqdm as notebook_tqdm\n"
     ]
    }
   ],
   "source": [
    "from visualdl import vdl\n",
    "import json\n",
    "from openpyxl import load_workbook\n",
    "import numpy as np\n",
    "import os\n",
    "import pandas as pd\n",
    "import matplotlib.pyplot as plt"
   ]
  },
  {
   "cell_type": "code",
   "execution_count": 133,
   "id": "8119988c",
   "metadata": {},
   "outputs": [],
   "source": [
    "train_x, train_y = [], []\n",
    "valid_x, valid_y= [], []"
   ]
  },
  {
   "cell_type": "code",
   "execution_count": 134,
   "id": "7a1d0b39",
   "metadata": {},
   "outputs": [],
   "source": [
    "# Einzelsubstanzen\n",
    "def get_csv_data(file_path):\n",
    "    with open(file_path, encoding = \"utf-8\") as handle:\n",
    "        data = pd.read_csv(file_path, sep = ';',skiprows=list(range(0, 89)), header=None)\n",
    "    return data\n",
    "\n",
    "csv_path = r\"C:\\Users\\HSA\\Desktop\\Spektren\\Einzelsubstanzen\\csv Dateien\"\n",
    "for cnt, csv in enumerate(os.listdir(csv_path)):\n",
    "    csv_file_path = os.path.join(csv_path, csv)\n",
    "    csv_data = get_csv_data(csv_file_path)\n",
    "\n",
    "    if (\"Chromotrope\") in csv:\n",
    "        if csv.split(\",\")[0][-1] == \"2\":\n",
    "            val = 12.\n",
    "        elif  csv.split(\",\")[0][-1] == \"0\":\n",
    "            val = 0.5\n",
    "        elif  csv.split(\",\")[0][-1] == \"1\":\n",
    "            val = 1.5\n",
    "        else:\n",
    "            val =  csv.split(\",\")[0][-1]\n",
    "        val = float(val)\n",
    "        x_data = [val, 0, 0]\n",
    "    elif (\"Chromtrope\") in csv:\n",
    "        if csv.split(\",\")[0][-1] == \"2\":\n",
    "            val = 12.\n",
    "        elif  csv.split(\",\")[0][-1] == \"0\":\n",
    "            val = 0.5\n",
    "        elif  csv.split(\",\")[0][-1] == \"1\":\n",
    "            val = 1.5\n",
    "        else:\n",
    "            val =  csv.split(\",\")[0][-1]\n",
    "        val = float(val)\n",
    "        x_data = [val, 0, 0]\n",
    "    elif \"Erioglaucine\" in csv:\n",
    "        if csv.split(\".\")[0][-1] == \"2\":\n",
    "            val = 12.\n",
    "        elif  csv.split(\".\")[0][-1] == \"0\":\n",
    "            val = 0.5\n",
    "        elif  csv.split(\".\")[0][-1] == \"1\":\n",
    "            val = 1.5\n",
    "        else:\n",
    "            val =  csv.split(\".\")[0][-1]\n",
    "        val = float(val)\n",
    "        x_data = [0, val, 0]\n",
    "    elif \"Riboflavin\" in csv:\n",
    "        if csv.split(\",\")[0][-1] == \"2\":\n",
    "            val = 12.\n",
    "        elif  csv.split(\",\")[0][-1] == \"0\":\n",
    "            val = 0.5\n",
    "        elif  csv.split(\",\")[0][-1] == \"1\":\n",
    "            val = 1.5\n",
    "        else:\n",
    "            val =  csv.split(\",\")[0][-1]\n",
    "        val = float(val)\n",
    "        x_data = [0, 0, val]\n",
    "    else:\n",
    "        print(f\"no valid substance: {csv}\")\n",
    "        continue\n",
    "    \n",
    "    all_values = list(map(lambda x: [float(x[i].replace(\",\", \".\")) if type(x[i]) is str else x[i] for i in range(2)], csv_data.values.tolist()))\n",
    "    idx = list(np.round(np.linspace(0, len(all_values) - 1, 100)).astype(int))\n",
    "    y_values = [all_values[i] for i in idx]\n",
    "    \n",
    "    if cnt%6 == 0:\n",
    "        valid_x.append(x_data)\n",
    "        valid_y.append(y_values)\n",
    "    else:    \n",
    "        train_x.append(x_data)\n",
    "        train_y.append(y_values)"
   ]
  },
  {
   "cell_type": "code",
   "execution_count": 135,
   "id": "3a7faf07",
   "metadata": {},
   "outputs": [
    {
     "name": "stdout",
     "output_type": "stream",
     "text": [
      "Pulvermischung 01\n",
      "Pulvermischung 02\n",
      "Pulvermischung 03\n",
      "Pulvermischung 04\n",
      "Pulvermischung 05\n",
      "Pulvermischung 06\n",
      "Pulvermischung 07\n",
      "Pulvermischung 08\n",
      "Pulvermischung 09\n",
      "Pulvermischung 10\n",
      "Pulvermischung 11\n",
      "Pulvermischung 12\n",
      "Pulvermischung 13\n",
      "Pulvermischung 14\n",
      "Pulvermischung 15\n",
      "Pulvermischung 16\n",
      "Pulvermischung 17\n",
      "Pulvermischung 18\n",
      "Pulvermischung 19\n",
      "Pulvermischung 20\n",
      "Pulvermischung 21\n",
      "Pulvermischung 22\n",
      "Pulvermischung 23\n",
      "Pulvermischung 24\n",
      "Pulvermischung 25\n",
      "Pulvermischung 26\n",
      "Pulvermischung 27\n",
      "Pulvermischung 28\n",
      "Pulvermischung 29\n",
      "Pulvermischung 30\n",
      "Pulvermischung 31\n",
      "Pulvermischung 32\n",
      "Pulvermischung 33\n",
      "Pulvermischung 34\n",
      "Pulvermischung 35\n",
      "Pulvermischung 36\n",
      "Pulvermischung 37\n",
      "Pulvermischung 38\n",
      "Pulvermischung 39\n",
      "Pulvermischung 40\n",
      "Pulvermischung 41\n",
      "Pulvermischung 42\n",
      "Pulvermischung 43\n",
      "Pulvermischung 44\n",
      "Pulvermischung 45\n",
      "Pulvermischung 46\n",
      "Pulvermischung 47\n",
      "Pulvermischung 48\n",
      "Pulvermischung 49\n",
      "Pulvermischung 50\n",
      "Pulvermischung 51\n",
      "Pulvermischung 52\n",
      "Pulvermischung 53\n",
      "Pulvermischung 54\n",
      "Pulvermischung 55\n",
      "Pulvermischung 56\n",
      "Pulvermischung 57\n",
      "Pulvermischung 58\n",
      "Pulvermischung 59\n",
      "Pulvermischung 60\n",
      "Pulvermischung 61\n",
      "Pulvermischung 62\n",
      "Pulvermischung 63\n",
      "Pulvermischung 64\n"
     ]
    }
   ],
   "source": [
    "# Gemische\n",
    "file_path = r\"C:\\Users\\HSA\\Desktop\\Spektren\\Gemische\\Pulvermischungen Tabletten_neue Einwaage für M44.xlsx\"\n",
    "spectra_dir = r\"C:\\Users\\HSA\\Desktop\\Spektren\\Gemische\\csv Dateien\"\n",
    "wb = load_workbook(filename = file_path, data_only=True)\n",
    "sheet = wb['Zusammenfassung']\n",
    "\n",
    "spectra_files = os.listdir(spectra_dir)\n",
    "for cnt, i in enumerate(range(3,67)):\n",
    "    print(sheet[f'A{i}'].value)\n",
    "    file_name = sheet[f'A{i}'].value\n",
    "    file_number = file_name[-2:]\n",
    "    file_number = file_number if file_number[0] != \"0\" else file_number[1]\n",
    "    samples = [x for x in spectra_files if (\"Tablette \" + file_number + \"_\") in x]\n",
    "    \n",
    "    for sample in samples:        \n",
    "        with open(file_path, encoding = \"utf-8\") as handle:\n",
    "            csv_data = pd.read_csv(os.path.join(spectra_dir, sample), sep = ';',skiprows=list(range(0, 89)), header=None)\n",
    "    \n",
    "        all_values = list(map(lambda x: [float(x[i].replace(\",\", \".\")) if type(x[i]) is str else x[i] for i in range(2)], csv_data.values.tolist()))\n",
    "        idx = list(np.round(np.linspace(0, len(all_values) - 1, 100)).astype(int))\n",
    "        y_values = [all_values[i] for i in idx]\n",
    "        \n",
    "        if cnt%6 == 0:\n",
    "            valid_x.append([sheet[f'G{i}'].value, sheet[f'F{i}'].value, sheet[f'H{i}'].value])\n",
    "            valid_y.append(y_values)\n",
    "        else:    \n",
    "            train_x.append([sheet[f'G{i}'].value, sheet[f'F{i}'].value, sheet[f'H{i}'].value])\n",
    "            train_y.append(y_values)"
   ]
  },
  {
   "cell_type": "code",
   "execution_count": 136,
   "id": "7a0b8c1d",
   "metadata": {},
   "outputs": [],
   "source": [
    "final_dict_train = {}\n",
    "for cnt, (x,y) in enumerate(zip(train_x, train_y)):\n",
    "    final_dict_train[cnt] = {\"concentrations\": x, \"spectrum\": y}"
   ]
  },
  {
   "cell_type": "code",
   "execution_count": 137,
   "id": "428cd215",
   "metadata": {},
   "outputs": [],
   "source": [
    "with open(\"dataset_train.json\", \"w\", encoding = \"utf-8\") as handle:\n",
    "    json.dump(final_dict_train, handle)"
   ]
  },
  {
   "cell_type": "code",
   "execution_count": 138,
   "id": "ad4e6595",
   "metadata": {},
   "outputs": [],
   "source": [
    "with open('dataset_train.json', 'r') as f:\n",
    "    data_train = json.load(f)"
   ]
  },
  {
   "cell_type": "code",
   "execution_count": 139,
   "id": "8bb1291a",
   "metadata": {},
   "outputs": [],
   "source": [
    "final_dict_valid = {}\n",
    "for cnt, (x,y) in enumerate(zip(valid_x, valid_y)):\n",
    "    final_dict_valid[cnt] = {\"concentrations\": x, \"spectrum\": y}"
   ]
  },
  {
   "cell_type": "code",
   "execution_count": 140,
   "id": "f4c6ea38",
   "metadata": {},
   "outputs": [],
   "source": [
    "with open(\"dataset_valid.json\", \"w\", encoding = \"utf-8\") as handle:\n",
    "    json.dump(final_dict_valid, handle)"
   ]
  },
  {
   "cell_type": "code",
   "execution_count": 141,
   "id": "8ab4dc6f",
   "metadata": {},
   "outputs": [],
   "source": [
    "with open('dataset_valid.json', 'r') as f:\n",
    "    data_valid = json.load(f)"
   ]
  },
  {
   "cell_type": "code",
   "execution_count": 142,
   "id": "c398ea59",
   "metadata": {},
   "outputs": [
    {
     "data": {
      "text/plain": [
       "dict_keys(['0', '1', '2', '3', '4', '5', '6', '7', '8', '9', '10', '11', '12', '13', '14', '15', '16', '17', '18', '19', '20', '21', '22', '23', '24', '25', '26', '27', '28', '29', '30', '31', '32', '33', '34', '35', '36', '37', '38', '39', '40', '41', '42', '43', '44', '45', '46', '47', '48', '49', '50', '51', '52', '53', '54', '55', '56', '57', '58', '59', '60', '61', '62', '63', '64', '65', '66', '67', '68', '69', '70', '71', '72', '73', '74', '75', '76', '77', '78', '79', '80', '81', '82', '83', '84', '85', '86', '87', '88', '89', '90', '91', '92', '93', '94', '95', '96', '97', '98', '99', '100', '101', '102', '103', '104', '105', '106', '107', '108', '109', '110', '111', '112', '113', '114', '115', '116', '117', '118', '119', '120', '121', '122', '123', '124', '125', '126', '127', '128', '129', '130', '131', '132', '133', '134', '135', '136', '137', '138', '139', '140', '141', '142', '143', '144', '145', '146', '147', '148', '149', '150', '151', '152', '153', '154', '155', '156', '157', '158', '159', '160', '161', '162', '163', '164', '165', '166', '167', '168', '169', '170', '171', '172', '173', '174', '175', '176', '177', '178', '179', '180', '181', '182', '183', '184', '185', '186', '187', '188', '189', '190', '191', '192', '193', '194', '195', '196', '197', '198', '199', '200', '201', '202', '203', '204', '205', '206', '207', '208', '209', '210', '211', '212', '213', '214', '215', '216', '217', '218', '219', '220', '221', '222', '223', '224', '225', '226', '227', '228', '229', '230', '231', '232'])"
      ]
     },
     "execution_count": 142,
     "metadata": {},
     "output_type": "execute_result"
    }
   ],
   "source": [
    "data_train.keys()"
   ]
  },
  {
   "cell_type": "code",
   "execution_count": 143,
   "id": "3d3f7815",
   "metadata": {},
   "outputs": [
    {
     "data": {
      "text/plain": [
       "dict_keys(['0', '1', '2', '3', '4', '5', '6', '7', '8', '9', '10', '11', '12', '13', '14', '15', '16', '17', '18', '19', '20', '21', '22', '23', '24', '25', '26', '27', '28', '29', '30', '31', '32', '33', '34', '35', '36', '37', '38', '39', '40', '41', '42', '43', '44', '45', '46', '47'])"
      ]
     },
     "execution_count": 143,
     "metadata": {},
     "output_type": "execute_result"
    }
   ],
   "source": [
    "data_valid.keys()"
   ]
  },
  {
   "cell_type": "code",
   "execution_count": null,
   "id": "f4e83e39",
   "metadata": {},
   "outputs": [],
   "source": []
  },
  {
   "cell_type": "markdown",
   "id": "5722bcf7",
   "metadata": {},
   "source": [
    "## Test Model"
   ]
  },
  {
   "cell_type": "code",
   "execution_count": 3,
   "id": "317825e4",
   "metadata": {},
   "outputs": [],
   "source": [
    "model = vdl.get_inference_model(r\"C:\\Users\\HSA\\Desktop\\Spektren\\model.pt\", \"mlp\")"
   ]
  },
  {
   "cell_type": "code",
   "execution_count": 37,
   "id": "3504d0ba",
   "metadata": {},
   "outputs": [],
   "source": [
    "predictions = model.predict([[1.05, 2.05, 0.54],\n",
    "                            [1.04, 0.5, 2.04]])"
   ]
  },
  {
   "cell_type": "code",
   "execution_count": 40,
   "id": "dce88cea",
   "metadata": {},
   "outputs": [
    {
     "data": {
      "image/png": "[encoded data removed]",
      "text/plain": [
       "<Figure size 432x288 with 1 Axes>"
      ]
     },
     "metadata": {
      "needs_background": "light"
     },
     "output_type": "display_data"
    }
   ],
   "source": [
    "for pred in predictions:\n",
    "    plt.plot(list(range(pred.size)), list(pred))\n",
    "\n",
    "plt.savefig(\"Chromotrope verpresste Tablette 0,5 Messung 1_result.png\")"
   ]
  },
  {
   "cell_type": "code",
   "execution_count": null,
   "id": "1c344d0d",
   "metadata": {},
   "outputs": [],
   "source": []
  }
 ],
 "metadata": {
  "kernelspec": {
   "display_name": "Python 3 (ipykernel)",
   "language": "python",
   "name": "python3"
  },
  "language_info": {
   "codemirror_mode": {
    "name": "ipython",
    "version": 3
   },
   "file_extension": ".py",
   "mimetype": "text/x-python",
   "name": "python",
   "nbconvert_exporter": "python",
   "pygments_lexer": "ipython3",
   "version": "3.7.0"
  }
 },
 "nbformat": 4,
 "nbformat_minor": 5
}
